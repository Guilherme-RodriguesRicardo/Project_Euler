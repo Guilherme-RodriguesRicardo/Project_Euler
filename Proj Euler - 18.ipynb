{
 "cells": [
  {
   "cell_type": "code",
   "execution_count": 2,
   "id": "1f5501aa-bcc2-4a6a-9608-5f19943172e2",
   "metadata": {},
   "outputs": [
    {
     "name": "stdout",
     "output_type": "stream",
     "text": [
      "1074\n",
      "Duration: 0:00:00.000997\n"
     ]
    }
   ],
   "source": [
    "import math as mt\n",
    "import numpy as np\n",
    "\n",
    "from datetime import datetime\n",
    "start_time = datetime.now()\n",
    "Tree = \"75 95 64 17 47 82 18 35 87 10 20 04 82 47 65 19 01 23 75 3 34 88 02 77 73 07 63 67 99 65 04 28 6 16 70 92 41 41 26 56 83 40 80 70 33 41 48 72 33 47 32 37 16 94 29 53 71 44 65 25 43 91 52 97 51 14 70 11 33 28 77 73 17 78 39 68 17 57 91 71 52 38 17 14 91 43 58 50 27 29 48 63 66 4 68 89 53 67 30 73 16 69 87 40 31 4 62 98 27 23 9 70 98 73 93 38 53 60 4 23\"\n",
    "TreeListS = Tree.split(\" \")\n",
    "TreeListN = []\n",
    "\n",
    "for x in TreeListS:\n",
    "    n = int(x)\n",
    "    TreeListN.append(n)\n",
    "ListLenght = len(TreeListN)\n",
    "\n",
    "coeff = [1,1, -2*ListLenght]\n",
    "ArrayTriLenght = np.roots(coeff)\n",
    "IntTriLenght = -np.int_(ArrayTriLenght[0])\n",
    "\n",
    "\n",
    "ModifiedTreeList = TreeListN\n",
    "Triangle = []\n",
    "for n in range(1,IntTriLenght+1):\n",
    "    SliceIndex = int((IntTriLenght - n)*(1+IntTriLenght-n)/2)\n",
    "    BottomTri = ModifiedTreeList[SliceIndex:]\n",
    "\n",
    "    ModifiedTreeList = ModifiedTreeList[:SliceIndex]\n",
    "    Triangle.append(BottomTri)\n",
    "\n",
    "\n",
    "for i in range(0,len(Triangle)):\n",
    "    for j in range(0,len(Triangle[i])-1):\n",
    "        Triangle[i+1][j] += max(Triangle[i][j],Triangle[i][j+1])\n",
    "\n",
    "print(Triangle[-1][0])\n",
    "end_time = datetime.now()\n",
    "print('Duration: {}'.format(end_time - start_time))"
   ]
  },
  {
   "cell_type": "code",
   "execution_count": null,
   "id": "9bc44de6-850a-4126-b609-b33e4c6e804e",
   "metadata": {},
   "outputs": [],
   "source": []
  }
 ],
 "metadata": {
  "kernelspec": {
   "display_name": "Python 3 (ipykernel)",
   "language": "python",
   "name": "python3"
  },
  "language_info": {
   "codemirror_mode": {
    "name": "ipython",
    "version": 3
   },
   "file_extension": ".py",
   "mimetype": "text/x-python",
   "name": "python",
   "nbconvert_exporter": "python",
   "pygments_lexer": "ipython3",
   "version": "3.11.3"
  }
 },
 "nbformat": 4,
 "nbformat_minor": 5
}
