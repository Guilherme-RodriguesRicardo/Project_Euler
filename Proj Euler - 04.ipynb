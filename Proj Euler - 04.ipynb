{
 "cells": [
  {
   "cell_type": "code",
   "execution_count": 3,
   "id": "311dac1c-eea4-4e3e-bd02-e5b6359e1438",
   "metadata": {},
   "outputs": [],
   "source": [
    "def palyndrome(n):\n",
    "    if str(n) ==  str(n)[::-1]:\n",
    "        return True\n",
    "    else: return False"
   ]
  },
  {
   "cell_type": "code",
   "execution_count": 12,
   "id": "89cbd8b0-1503-480f-ad7b-be37cc513f72",
   "metadata": {
    "scrolled": true
   },
   "outputs": [
    {
     "name": "stdout",
     "output_type": "stream",
     "text": [
      "906609\n",
      "Duration: 0:00:00.137559\n"
     ]
    }
   ],
   "source": [
    "from datetime import datetime\n",
    "start_time = datetime.now()\n",
    "largest_palyndrome = 11\n",
    "for i in range(100,1000):\n",
    "    for j in range(100,1000):\n",
    "        product = i*j\n",
    "        if (product >= largest_palyndrome and palyndrome(product)):\n",
    "            \n",
    "             largest_palyndrome = product\n",
    "print(largest_palyndrome)\n",
    "end_time = datetime.now()\n",
    "print('Duration: {}'.format(end_time - start_time))"
   ]
  },
  {
   "cell_type": "code",
   "execution_count": null,
   "id": "432ca01d-8cbf-4592-8405-9379b3bc48c8",
   "metadata": {},
   "outputs": [],
   "source": []
  }
 ],
 "metadata": {
  "kernelspec": {
   "display_name": "Python 3 (ipykernel)",
   "language": "python",
   "name": "python3"
  },
  "language_info": {
   "codemirror_mode": {
    "name": "ipython",
    "version": 3
   },
   "file_extension": ".py",
   "mimetype": "text/x-python",
   "name": "python",
   "nbconvert_exporter": "python",
   "pygments_lexer": "ipython3",
   "version": "3.11.3"
  }
 },
 "nbformat": 4,
 "nbformat_minor": 5
}
