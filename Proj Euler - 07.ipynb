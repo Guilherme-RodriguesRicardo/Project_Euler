{
 "cells": [
  {
   "cell_type": "markdown",
   "id": "22a130c7-0840-42ae-bc58-600f6e864428",
   "metadata": {},
   "source": [
    "# https://en.wikipedia.org/wiki/Prime_number_theorem#Non-asymptotic_bounds_on_the_prime-counting_function\n",
    "\n",
    "Baseando-se nesse artigo da Wikipedia, podemos ver que uma boa aproximação para o número primo n é que ele é menor que n(ln(n) + ln(ln(n)))\n",
    "Assim, para se achar o n-primo. Calcula-se esse valor e aplica-se o Sieve of Erasthothenes.\n"
   ]
  },
  {
   "cell_type": "code",
   "execution_count": 1,
   "id": "6dbeec20-476a-45c4-ad0d-be0015366a14",
   "metadata": {},
   "outputs": [],
   "source": [
    "from math import ceil\n",
    "from numpy import log\n",
    "import numpy\n",
    "def bound_prime(n):\n",
    "    if n>=6:\n",
    "        return ceil(n * (log(n) + log(log(n))))\n",
    "    else:\n",
    "        return 2"
   ]
  },
  {
   "cell_type": "code",
   "execution_count": 2,
   "id": "4987c4e0-9602-40e5-b8c6-fd645bfc8e05",
   "metadata": {},
   "outputs": [],
   "source": [
    "def sieve(n):\n",
    "    flags = numpy.ones(n+1, dtype=bool)\n",
    "    flags[0] = flags[1] = False\n",
    "    for i in range(2, int(n**.5)+2):\n",
    "        if flags[i]:\n",
    "            flags[i*i::i] = False\n",
    "    return numpy.flatnonzero(flags)"
   ]
  },
  {
   "cell_type": "code",
   "execution_count": 3,
   "id": "242eb5bb-cbfa-414e-a0a1-4861228bc6ca",
   "metadata": {},
   "outputs": [
    {
     "name": "stdout",
     "output_type": "stream",
     "text": [
      "104743\n",
      "Duration: 0:00:00.001000\n"
     ]
    }
   ],
   "source": [
    "from datetime import datetime\n",
    "start_time = datetime.now()\n",
    "n = 10001\n",
    "n_primos = bound_prime(n)\n",
    "primos = sieve(n_primos)\n",
    "primo_10001 = primos[n -1]\n",
    "print(primo_10001)\n",
    "end_time = datetime.now()\n",
    "print('Duration: {}'.format(end_time - start_time))"
   ]
  }
 ],
 "metadata": {
  "kernelspec": {
   "display_name": "Python 3 (ipykernel)",
   "language": "python",
   "name": "python3"
  },
  "language_info": {
   "codemirror_mode": {
    "name": "ipython",
    "version": 3
   },
   "file_extension": ".py",
   "mimetype": "text/x-python",
   "name": "python",
   "nbconvert_exporter": "python",
   "pygments_lexer": "ipython3",
   "version": "3.11.3"
  }
 },
 "nbformat": 4,
 "nbformat_minor": 5
}
