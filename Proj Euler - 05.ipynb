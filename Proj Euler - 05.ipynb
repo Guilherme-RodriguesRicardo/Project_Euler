{
 "cells": [
  {
   "cell_type": "code",
   "execution_count": 1,
   "id": "d4ef1667-048e-4691-9496-a7475644a963",
   "metadata": {},
   "outputs": [],
   "source": [
    "import numpy"
   ]
  },
  {
   "cell_type": "code",
   "execution_count": 2,
   "id": "3ab7bf85-0015-4d4e-a9a1-0d70d68db56d",
   "metadata": {},
   "outputs": [],
   "source": [
    "def sieve(n):\n",
    "    flags = numpy.ones(n, dtype=bool)\n",
    "    flags[0] = flags[1] = False\n",
    "    for i in range(2, int(n**.5)+2):\n",
    "        if flags[i]:\n",
    "            flags[i*i::i] = False\n",
    "    return numpy.flatnonzero(flags)"
   ]
  },
  {
   "cell_type": "code",
   "execution_count": 3,
   "id": "0e5b953c-39e3-49a7-8c77-95716e798be4",
   "metadata": {},
   "outputs": [
    {
     "name": "stdout",
     "output_type": "stream",
     "text": [
      "232792560\n",
      "Duration: 0:00:00.001001\n"
     ]
    }
   ],
   "source": [
    "from datetime import datetime\n",
    "start_time = datetime.now()\n",
    "\n",
    "prime_list = sieve(20)\n",
    "prime_prod = numpy.prod(prime_list)\n",
    "prime_list,prime_prod\n",
    "list_n = numpy.arange(1,21)\n",
    "list_n\n",
    "min = False\n",
    "start = prime_prod\n",
    "while min == False:\n",
    "    remainder_list = []\n",
    "    for k in list_n:\n",
    "        modulo = start % k\n",
    "        remainder_list.append(modulo)\n",
    "    if sum(remainder_list) == 0:\n",
    "        min = True\n",
    "        print(start)\n",
    "        break\n",
    "    start += prime_prod\n",
    "\n",
    "end_time = datetime.now()\n",
    "print('Duration: {}'.format(end_time - start_time))\n"
   ]
  },
  {
   "cell_type": "code",
   "execution_count": null,
   "id": "401943cc-8c5b-474c-a10c-301139d27384",
   "metadata": {},
   "outputs": [],
   "source": []
  }
 ],
 "metadata": {
  "kernelspec": {
   "display_name": "Python 3 (ipykernel)",
   "language": "python",
   "name": "python3"
  },
  "language_info": {
   "codemirror_mode": {
    "name": "ipython",
    "version": 3
   },
   "file_extension": ".py",
   "mimetype": "text/x-python",
   "name": "python",
   "nbconvert_exporter": "python",
   "pygments_lexer": "ipython3",
   "version": "3.11.3"
  }
 },
 "nbformat": 4,
 "nbformat_minor": 5
}
