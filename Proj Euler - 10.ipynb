{
 "cells": [
  {
   "cell_type": "code",
   "execution_count": 1,
   "id": "2c8d576d-0278-41d6-9273-1da7a0ce83b7",
   "metadata": {},
   "outputs": [],
   "source": [
    "import numpy\n",
    "def sieve(n):\n",
    "    flags = numpy.ones(n, dtype=bool)\n",
    "    flags[0] = flags[1] = False\n",
    "    for i in range(2, int(n**.5)+2):\n",
    "        if flags[i]:\n",
    "            flags[i*i::i] = False\n",
    "    return numpy.flatnonzero(flags)"
   ]
  },
  {
   "cell_type": "code",
   "execution_count": 4,
   "id": "fe7da244-600e-4b2f-a38f-c4dffe2a4d6a",
   "metadata": {},
   "outputs": [
    {
     "name": "stdout",
     "output_type": "stream",
     "text": [
      "142913828922\n"
     ]
    }
   ],
   "source": [
    "primes = sieve(int(2e6))\n",
    "print(sum(primes))"
   ]
  },
  {
   "cell_type": "code",
   "execution_count": null,
   "id": "7bf3ff72-7963-485c-b58a-0033d9f29c12",
   "metadata": {},
   "outputs": [],
   "source": []
  }
 ],
 "metadata": {
  "kernelspec": {
   "display_name": "Python 3 (ipykernel)",
   "language": "python",
   "name": "python3"
  },
  "language_info": {
   "codemirror_mode": {
    "name": "ipython",
    "version": 3
   },
   "file_extension": ".py",
   "mimetype": "text/x-python",
   "name": "python",
   "nbconvert_exporter": "python",
   "pygments_lexer": "ipython3",
   "version": "3.11.3"
  }
 },
 "nbformat": 4,
 "nbformat_minor": 5
}
