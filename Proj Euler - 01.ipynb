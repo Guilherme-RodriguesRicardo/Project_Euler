{
 "cells": [
  {
   "cell_type": "code",
   "execution_count": 5,
   "id": "e5e912f9-fee2-4332-a28c-ddf96716bb49",
   "metadata": {},
   "outputs": [
    {
     "name": "stdout",
     "output_type": "stream",
     "text": [
      "233168\n"
     ]
    }
   ],
   "source": [
    "## Project Euler #01\n",
    "\n",
    "sum_i = 0 \n",
    "for i in range(1000):\n",
    "    if (i % 15 ==0 ) or (i%5 ==0) or (i%3 ==0):\n",
    "        sum_i += i\n",
    "    else: pass\n",
    "\n",
    "print(sum_i)"
   ]
  },
  {
   "cell_type": "code",
   "execution_count": null,
   "id": "39d7aa4c-190c-49a2-aa94-f67f25877013",
   "metadata": {},
   "outputs": [],
   "source": []
  }
 ],
 "metadata": {
  "kernelspec": {
   "display_name": "Python 3 (ipykernel)",
   "language": "python",
   "name": "python3"
  },
  "language_info": {
   "codemirror_mode": {
    "name": "ipython",
    "version": 3
   },
   "file_extension": ".py",
   "mimetype": "text/x-python",
   "name": "python",
   "nbconvert_exporter": "python",
   "pygments_lexer": "ipython3",
   "version": "3.11.3"
  }
 },
 "nbformat": 4,
 "nbformat_minor": 5
}
