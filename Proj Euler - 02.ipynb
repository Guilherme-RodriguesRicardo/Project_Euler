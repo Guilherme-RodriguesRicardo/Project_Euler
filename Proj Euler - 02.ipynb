{
 "cells": [
  {
   "cell_type": "code",
   "execution_count": 1,
   "id": "022122d5-7dfc-48cc-804c-8c9964042a14",
   "metadata": {},
   "outputs": [],
   "source": [
    "## Project Euler 2\n",
    "def fib(n, computed = {0: 0, 1: 1}):\n",
    "    if n not in computed:\n",
    "        computed[n] = fib(n-1, computed) + fib(n-2, computed)\n",
    "    return computed[n]"
   ]
  },
  {
   "cell_type": "code",
   "execution_count": 6,
   "id": "f5997f16-0e65-41bd-b188-9149b7cb5c00",
   "metadata": {},
   "outputs": [
    {
     "name": "stdout",
     "output_type": "stream",
     "text": [
      "Duration: 0:00:00.001002\n"
     ]
    }
   ],
   "source": [
    "from datetime import datetime\n",
    "start_time = datetime.now()\n",
    "\n",
    "i = 0\n",
    "even_fib = []\n",
    "r = 0\n",
    "\n",
    "while r < int(4e6):\n",
    "    r = fib(i)\n",
    "    i = i + 1\n",
    "    if (r % 2) == 0: \n",
    "        even_fib.append(r)\n",
    "\n",
    "\n",
    "end_time = datetime.now()\n",
    "print('Duration: {}'.format(end_time - start_time))"
   ]
  },
  {
   "cell_type": "code",
   "execution_count": 7,
   "id": "0eef21db-a6ee-4ba1-8bb7-72bbc3ca7caa",
   "metadata": {},
   "outputs": [
    {
     "name": "stdout",
     "output_type": "stream",
     "text": [
      "4613732\n"
     ]
    }
   ],
   "source": [
    "print(sum(even_fib))"
   ]
  }
 ],
 "metadata": {
  "kernelspec": {
   "display_name": "Python 3 (ipykernel)",
   "language": "python",
   "name": "python3"
  },
  "language_info": {
   "codemirror_mode": {
    "name": "ipython",
    "version": 3
   },
   "file_extension": ".py",
   "mimetype": "text/x-python",
   "name": "python",
   "nbconvert_exporter": "python",
   "pygments_lexer": "ipython3",
   "version": "3.11.3"
  }
 },
 "nbformat": 4,
 "nbformat_minor": 5
}
